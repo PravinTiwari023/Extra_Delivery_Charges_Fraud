{
 "cells": [
  {
   "cell_type": "code",
   "execution_count": 1,
   "id": "c36c8046",
   "metadata": {},
   "outputs": [],
   "source": [
    "import pandas as pd\n",
    "import seaborn as sns\n",
    "import matplotlib.pyplot as plt"
   ]
  },
  {
   "cell_type": "code",
   "execution_count": 2,
   "id": "6f1e6c8d",
   "metadata": {},
   "outputs": [],
   "source": [
    "order_report = pd.read_excel('Company X - Order Report.xlsx')\n",
    "pincode_zone = pd.read_excel('Company X - Pincode Zones.xlsx')\n",
    "sku_master = pd.read_excel('Company X - SKU Master.xlsx')\n",
    "c_invoice = pd.read_excel('Courier Company - Invoice.xlsx')\n",
    "c_rates = pd.read_excel(\"Courier Company - Rates.xlsx\")"
   ]
  },
  {
   "cell_type": "code",
   "execution_count": 3,
   "id": "aab37d7b",
   "metadata": {},
   "outputs": [],
   "source": [
    "order_report=pd.merge(order_report,sku_master,how='outer',on='SKU')\n",
    "\n",
    "def adding_quantity(qty, weight):\n",
    "    return weight*qty\n",
    "\n",
    "order_report['Weight (g)'] = order_report.apply(lambda x: adding_quantity(x['Order Qty'], x['Weight (g)']),axis=1)"
   ]
  },
  {
   "cell_type": "code",
   "execution_count": 4,
   "id": "d6ecd21b",
   "metadata": {},
   "outputs": [],
   "source": [
    "new_data = order_report.groupby('ExternOrderNo')['Weight (g)'].sum().sort_values(ascending = False)\n",
    "\n",
    "df = pd.DataFrame(new_data)\n",
    "df.reset_index(inplace=True)\n",
    "\n",
    "df['Weight (kg)'] = df['Weight (g)']/1000\n",
    "\n",
    "def slab_function(s):\n",
    "    if (s>=0 and s<0.95):\n",
    "        return 0.5\n",
    "    elif (s>=0.95 and s<1.2):\n",
    "        return 1\n",
    "    elif (s>=1.2 and s<1.95):\n",
    "        return 1.5\n",
    "    elif (s>=1.95 and s<2.2):\n",
    "        return 2\n",
    "    elif (s>=2.2 and s<2.95):\n",
    "        return 2.5\n",
    "    \n",
    "df[\"Slab\"] = df[\"Weight (kg)\"].apply(slab_function)"
   ]
  },
  {
   "cell_type": "code",
   "execution_count": 5,
   "id": "ea643ed1",
   "metadata": {},
   "outputs": [
    {
     "data": {
      "text/html": [
       "<div>\n",
       "<style scoped>\n",
       "    .dataframe tbody tr th:only-of-type {\n",
       "        vertical-align: middle;\n",
       "    }\n",
       "\n",
       "    .dataframe tbody tr th {\n",
       "        vertical-align: top;\n",
       "    }\n",
       "\n",
       "    .dataframe thead th {\n",
       "        text-align: right;\n",
       "    }\n",
       "</style>\n",
       "<table border=\"1\" class=\"dataframe\">\n",
       "  <thead>\n",
       "    <tr style=\"text-align: right;\">\n",
       "      <th></th>\n",
       "      <th>ExternOrderNo</th>\n",
       "      <th>Weight (g)</th>\n",
       "      <th>Weight (kg)</th>\n",
       "      <th>Slab</th>\n",
       "    </tr>\n",
       "  </thead>\n",
       "  <tbody>\n",
       "    <tr>\n",
       "      <th>0</th>\n",
       "      <td>2001809820</td>\n",
       "      <td>3080.0</td>\n",
       "      <td>3.080</td>\n",
       "      <td>NaN</td>\n",
       "    </tr>\n",
       "    <tr>\n",
       "      <th>1</th>\n",
       "      <td>2001812854</td>\n",
       "      <td>2572.0</td>\n",
       "      <td>2.572</td>\n",
       "      <td>2.5</td>\n",
       "    </tr>\n",
       "    <tr>\n",
       "      <th>2</th>\n",
       "      <td>2001806408</td>\n",
       "      <td>2265.0</td>\n",
       "      <td>2.265</td>\n",
       "      <td>2.5</td>\n",
       "    </tr>\n",
       "    <tr>\n",
       "      <th>3</th>\n",
       "      <td>2001827036</td>\n",
       "      <td>2176.0</td>\n",
       "      <td>2.176</td>\n",
       "      <td>2.0</td>\n",
       "    </tr>\n",
       "    <tr>\n",
       "      <th>4</th>\n",
       "      <td>2001821185</td>\n",
       "      <td>2098.0</td>\n",
       "      <td>2.098</td>\n",
       "      <td>2.0</td>\n",
       "    </tr>\n",
       "  </tbody>\n",
       "</table>\n",
       "</div>"
      ],
      "text/plain": [
       "   ExternOrderNo  Weight (g)  Weight (kg)  Slab\n",
       "0     2001809820      3080.0        3.080   NaN\n",
       "1     2001812854      2572.0        2.572   2.5\n",
       "2     2001806408      2265.0        2.265   2.5\n",
       "3     2001827036      2176.0        2.176   2.0\n",
       "4     2001821185      2098.0        2.098   2.0"
      ]
     },
     "execution_count": 5,
     "metadata": {},
     "output_type": "execute_result"
    }
   ],
   "source": [
    "df.to_csv('Slab_data.csv')\n",
    "df.head()"
   ]
  },
  {
   "cell_type": "code",
   "execution_count": 6,
   "id": "a50df307",
   "metadata": {},
   "outputs": [],
   "source": [
    "xzone = pd.read_excel('Company X - Pincode Zones.xlsx')\n",
    "invoice = pd.read_excel('Courier Company - Invoice.xlsx')\n",
    "\n",
    "merge = pd.merge(xzone,invoice,how='left',on='Customer Pincode')\n",
    "\n",
    "merge.drop('Warehouse Pincode_x',inplace=True,axis=1)\n",
    "merge.drop('Zone_x',inplace=True,axis=1)\n",
    "merge.drop('Charged Weight',inplace=True,axis=1)\n",
    "merge.drop('Billing Amount (Rs.)',inplace=True,axis=1)\n",
    "\n",
    "df = pd.read_excel('Courier Company - Rates.xlsx')\n",
    "\n",
    "rates = df.to_numpy()\n",
    "rate = rates[0]\n",
    "\n",
    "d={}\n",
    "for i in range(0,20):\n",
    "    d[df.columns[i]] = rate[i]"
   ]
  },
  {
   "cell_type": "code",
   "execution_count": 7,
   "id": "3a931351",
   "metadata": {},
   "outputs": [],
   "source": [
    "xslab = pd.read_csv('Slab_data.csv')"
   ]
  },
  {
   "cell_type": "code",
   "execution_count": 8,
   "id": "8544dbfa",
   "metadata": {},
   "outputs": [],
   "source": [
    "xslab.drop('Unnamed: 0',inplace=True,axis=1)\n",
    "xslab.rename(columns = {'ExternOrderNo':'Order ID'}, inplace = True)\n",
    "charges=pd.merge(merge,xslab,how='left',on='Order ID')\n",
    "charges.rename(columns = {'Warehouse Pincode_y':'Warehouse Pincode','Zone_y':'X Zone'}, inplace = True)\n",
    "\n",
    "def slab_rate_cal(slab, val, additional):\n",
    "    i = slab/0.5\n",
    "    while i >= 2:\n",
    "        val += additional\n",
    "        i = i - 1\n",
    "    return val\n",
    "\n",
    "def newcolumn(shipment,zone,slab):\n",
    "    if shipment == 'Forward charges':\n",
    "        if zone == 'a':\n",
    "            return slab_rate_cal(slab, 29.5, 23.6)\n",
    "        elif zone == 'b':\n",
    "            return slab_rate_cal(slab, 33.0, 28.3)\n",
    "        elif zone == 'c':\n",
    "            return slab_rate_cal(slab, 40.1, 38.9)\n",
    "        elif zone == 'd':\n",
    "            return slab_rate_cal(slab, 45.4, 44.8)\n",
    "        else:\n",
    "            return slab_rate_cal(slab, 56.6, 55.5)\n",
    "    else:\n",
    "        if zone == 'a':\n",
    "            return slab_rate_cal(slab, 29.5+13.6, 23.6)\n",
    "        elif zone == 'b':\n",
    "            return slab_rate_cal(slab, 33.0+20.5, 28.3)\n",
    "        elif zone == 'c':\n",
    "            return slab_rate_cal(slab, 40.1+31.9, 38.9)\n",
    "        elif zone == 'd':\n",
    "            return slab_rate_cal(slab, 45.4+41.3, 44.8)\n",
    "        else:\n",
    "            return slab_rate_cal(slab, 56.6+50.7, 55.5)\n",
    "            \n",
    "charges['Expected charge by x'] = charges.apply(lambda x: newcolumn(x['Type of Shipment'], x['X Zone'],x['Slab']),axis=1)"
   ]
  },
  {
   "cell_type": "code",
   "execution_count": 9,
   "id": "d73ebff6",
   "metadata": {},
   "outputs": [
    {
     "data": {
      "text/html": [
       "<div>\n",
       "<style scoped>\n",
       "    .dataframe tbody tr th:only-of-type {\n",
       "        vertical-align: middle;\n",
       "    }\n",
       "\n",
       "    .dataframe tbody tr th {\n",
       "        vertical-align: top;\n",
       "    }\n",
       "\n",
       "    .dataframe thead th {\n",
       "        text-align: right;\n",
       "    }\n",
       "</style>\n",
       "<table border=\"1\" class=\"dataframe\">\n",
       "  <thead>\n",
       "    <tr style=\"text-align: right;\">\n",
       "      <th></th>\n",
       "      <th>Customer Pincode</th>\n",
       "      <th>AWB Code</th>\n",
       "      <th>Order ID</th>\n",
       "      <th>Warehouse Pincode</th>\n",
       "      <th>X Zone</th>\n",
       "      <th>Type of Shipment</th>\n",
       "      <th>Weight (g)</th>\n",
       "      <th>Weight (kg)</th>\n",
       "      <th>Slab</th>\n",
       "      <th>Expected charge by x</th>\n",
       "    </tr>\n",
       "  </thead>\n",
       "  <tbody>\n",
       "    <tr>\n",
       "      <th>0</th>\n",
       "      <td>507101</td>\n",
       "      <td>1091117222124</td>\n",
       "      <td>2001806232</td>\n",
       "      <td>121003</td>\n",
       "      <td>d</td>\n",
       "      <td>Forward charges</td>\n",
       "      <td>1302.0</td>\n",
       "      <td>1.302</td>\n",
       "      <td>1.5</td>\n",
       "      <td>135.0</td>\n",
       "    </tr>\n",
       "    <tr>\n",
       "      <th>1</th>\n",
       "      <td>486886</td>\n",
       "      <td>1091117222194</td>\n",
       "      <td>2001806273</td>\n",
       "      <td>121003</td>\n",
       "      <td>d</td>\n",
       "      <td>Forward charges</td>\n",
       "      <td>615.0</td>\n",
       "      <td>0.615</td>\n",
       "      <td>0.5</td>\n",
       "      <td>45.4</td>\n",
       "    </tr>\n",
       "    <tr>\n",
       "      <th>2</th>\n",
       "      <td>532484</td>\n",
       "      <td>1091117222931</td>\n",
       "      <td>2001806408</td>\n",
       "      <td>121003</td>\n",
       "      <td>d</td>\n",
       "      <td>Forward charges</td>\n",
       "      <td>2265.0</td>\n",
       "      <td>2.265</td>\n",
       "      <td>2.5</td>\n",
       "      <td>224.6</td>\n",
       "    </tr>\n",
       "    <tr>\n",
       "      <th>3</th>\n",
       "      <td>143001</td>\n",
       "      <td>1091117223244</td>\n",
       "      <td>2001806458</td>\n",
       "      <td>121003</td>\n",
       "      <td>b</td>\n",
       "      <td>Forward charges</td>\n",
       "      <td>700.0</td>\n",
       "      <td>0.700</td>\n",
       "      <td>0.5</td>\n",
       "      <td>33.0</td>\n",
       "    </tr>\n",
       "    <tr>\n",
       "      <th>4</th>\n",
       "      <td>515591</td>\n",
       "      <td>1091117229345</td>\n",
       "      <td>2001807012</td>\n",
       "      <td>121003</td>\n",
       "      <td>d</td>\n",
       "      <td>Forward charges</td>\n",
       "      <td>240.0</td>\n",
       "      <td>0.240</td>\n",
       "      <td>0.5</td>\n",
       "      <td>45.4</td>\n",
       "    </tr>\n",
       "  </tbody>\n",
       "</table>\n",
       "</div>"
      ],
      "text/plain": [
       "   Customer Pincode       AWB Code    Order ID  Warehouse Pincode X Zone  \\\n",
       "0            507101  1091117222124  2001806232             121003      d   \n",
       "1            486886  1091117222194  2001806273             121003      d   \n",
       "2            532484  1091117222931  2001806408             121003      d   \n",
       "3            143001  1091117223244  2001806458             121003      b   \n",
       "4            515591  1091117229345  2001807012             121003      d   \n",
       "\n",
       "  Type of Shipment  Weight (g)  Weight (kg)  Slab  Expected charge by x  \n",
       "0  Forward charges      1302.0        1.302   1.5                 135.0  \n",
       "1  Forward charges       615.0        0.615   0.5                  45.4  \n",
       "2  Forward charges      2265.0        2.265   2.5                 224.6  \n",
       "3  Forward charges       700.0        0.700   0.5                  33.0  \n",
       "4  Forward charges       240.0        0.240   0.5                  45.4  "
      ]
     },
     "execution_count": 9,
     "metadata": {},
     "output_type": "execute_result"
    }
   ],
   "source": [
    "charges.to_csv('Expected charge as per X')\n",
    "charges.head()"
   ]
  },
  {
   "cell_type": "code",
   "execution_count": 10,
   "id": "921ff04b",
   "metadata": {},
   "outputs": [],
   "source": [
    "invoice = pd.read_excel('Courier Company - Invoice.xlsx')\n",
    "xdata = pd.read_csv('Expected charge as per X')"
   ]
  },
  {
   "cell_type": "code",
   "execution_count": 11,
   "id": "10646de2",
   "metadata": {},
   "outputs": [],
   "source": [
    "xdata.drop('Unnamed: 0',inplace=True,axis=1)\n",
    "\n",
    "final_data=pd.merge(invoice,xdata,how='right',on='Order ID')\n",
    "\n",
    "final_data.drop('AWB Code_x',inplace=True,axis=1)\n",
    "final_data.drop('Warehouse Pincode_x',inplace=True,axis=1)\n",
    "final_data.drop('Customer Pincode_x',inplace=True,axis=1)\n",
    "final_data.drop('Warehouse Pincode_y',inplace=True,axis=1)\n",
    "final_data.drop('Customer Pincode_y',inplace=True,axis=1)\n",
    "final_data.drop('Type of Shipment_x',inplace=True,axis=1)\n",
    "final_data.drop('Type of Shipment_y',inplace=True,axis=1)\n",
    "final_data.drop('Weight (g)',inplace=True,axis=1)\n",
    "\n",
    "final_data['AWB Number'] = final_data['AWB Code_y']\n",
    "final_data.drop('AWB Code_y',inplace=True,axis=1)\n",
    "final_data['Total weight as per X'] = final_data['Weight (kg)']\n",
    "final_data.drop('Weight (kg)',inplace=True,axis=1)\n",
    "final_data['Weight Slab as per X'] = final_data['Slab']\n",
    "final_data.drop('Slab',inplace=True,axis=1)\n",
    "final_data['Total Weight as per Courier Company'] = final_data['Charged Weight']\n",
    "final_data.drop('Charged Weight',inplace=True,axis=1)\n",
    "\n",
    "def slab_function(s):\n",
    "    if (s>=0 and s<0.95):\n",
    "        return 0.5\n",
    "    elif (s>=0.95 and s<1.2):\n",
    "        return 1\n",
    "    elif (s>=1.2 and s<1.95):\n",
    "        return 1.5\n",
    "    elif (s>=1.95 and s<2.2):\n",
    "        return 2\n",
    "    elif (s>=2.2 and s<2.95):\n",
    "        return 2.5\n",
    "    \n",
    "final_data['Weight Slab Charged by Courier Company'] = final_data['Total Weight as per Courier Company'].apply(slab_function)\n",
    "\n",
    "final_data['Delivery Zone as per X'] = final_data['X Zone']\n",
    "final_data.drop('X Zone',inplace=True,axis=1)\n",
    "final_data['Delivery Zone as per Courier Company'] = final_data['Zone']\n",
    "final_data.drop('Zone',inplace=True,axis=1)\n",
    "final_data['Expected charges as per X'] = final_data['Expected charge by x']\n",
    "final_data.drop('Expected charge by x',inplace=True,axis=1)\n",
    "final_data['Charges billed by Courier Company'] = final_data['Billing Amount (Rs.)']\n",
    "final_data.drop('Billing Amount (Rs.)',inplace=True,axis=1)\n",
    "\n",
    "final_data['Difference between Expected and billed charges'] = final_data['Expected charges as per X'] - final_data['Charges billed by Courier Company']\n",
    "\n",
    "def value_correction(num):\n",
    "    if num == -1.4210854715202004e-14:\n",
    "        return 0.0\n",
    "    else:\n",
    "        num = float(\"%.2f\" % float(num))\n",
    "        return num\n",
    "\n",
    "final_data['Difference between Expected and billed charges'] = final_data['Difference between Expected and billed charges'].apply(value_correction)"
   ]
  },
  {
   "cell_type": "code",
   "execution_count": 12,
   "id": "afc50fea",
   "metadata": {},
   "outputs": [
    {
     "data": {
      "text/html": [
       "<div>\n",
       "<style scoped>\n",
       "    .dataframe tbody tr th:only-of-type {\n",
       "        vertical-align: middle;\n",
       "    }\n",
       "\n",
       "    .dataframe tbody tr th {\n",
       "        vertical-align: top;\n",
       "    }\n",
       "\n",
       "    .dataframe thead th {\n",
       "        text-align: right;\n",
       "    }\n",
       "</style>\n",
       "<table border=\"1\" class=\"dataframe\">\n",
       "  <thead>\n",
       "    <tr style=\"text-align: right;\">\n",
       "      <th></th>\n",
       "      <th>Order ID</th>\n",
       "      <th>AWB Number</th>\n",
       "      <th>Total weight as per X</th>\n",
       "      <th>Weight Slab as per X</th>\n",
       "      <th>Total Weight as per Courier Company</th>\n",
       "      <th>Weight Slab Charged by Courier Company</th>\n",
       "      <th>Delivery Zone as per X</th>\n",
       "      <th>Delivery Zone as per Courier Company</th>\n",
       "      <th>Expected charges as per X</th>\n",
       "      <th>Charges billed by Courier Company</th>\n",
       "      <th>Difference between Expected and billed charges</th>\n",
       "    </tr>\n",
       "  </thead>\n",
       "  <tbody>\n",
       "    <tr>\n",
       "      <th>0</th>\n",
       "      <td>2001806232</td>\n",
       "      <td>1091117222124</td>\n",
       "      <td>1.302</td>\n",
       "      <td>1.5</td>\n",
       "      <td>1.30</td>\n",
       "      <td>1.5</td>\n",
       "      <td>d</td>\n",
       "      <td>d</td>\n",
       "      <td>135.0</td>\n",
       "      <td>135.0</td>\n",
       "      <td>0.0</td>\n",
       "    </tr>\n",
       "    <tr>\n",
       "      <th>1</th>\n",
       "      <td>2001806273</td>\n",
       "      <td>1091117222194</td>\n",
       "      <td>0.615</td>\n",
       "      <td>0.5</td>\n",
       "      <td>1.00</td>\n",
       "      <td>1.0</td>\n",
       "      <td>d</td>\n",
       "      <td>d</td>\n",
       "      <td>45.4</td>\n",
       "      <td>90.2</td>\n",
       "      <td>-44.8</td>\n",
       "    </tr>\n",
       "    <tr>\n",
       "      <th>2</th>\n",
       "      <td>2001806408</td>\n",
       "      <td>1091117222931</td>\n",
       "      <td>2.265</td>\n",
       "      <td>2.5</td>\n",
       "      <td>2.50</td>\n",
       "      <td>2.5</td>\n",
       "      <td>d</td>\n",
       "      <td>d</td>\n",
       "      <td>224.6</td>\n",
       "      <td>224.6</td>\n",
       "      <td>0.0</td>\n",
       "    </tr>\n",
       "    <tr>\n",
       "      <th>3</th>\n",
       "      <td>2001806458</td>\n",
       "      <td>1091117223244</td>\n",
       "      <td>0.700</td>\n",
       "      <td>0.5</td>\n",
       "      <td>1.00</td>\n",
       "      <td>1.0</td>\n",
       "      <td>b</td>\n",
       "      <td>b</td>\n",
       "      <td>33.0</td>\n",
       "      <td>61.3</td>\n",
       "      <td>-28.3</td>\n",
       "    </tr>\n",
       "    <tr>\n",
       "      <th>4</th>\n",
       "      <td>2001807012</td>\n",
       "      <td>1091117229345</td>\n",
       "      <td>0.240</td>\n",
       "      <td>0.5</td>\n",
       "      <td>0.15</td>\n",
       "      <td>0.5</td>\n",
       "      <td>d</td>\n",
       "      <td>d</td>\n",
       "      <td>45.4</td>\n",
       "      <td>45.4</td>\n",
       "      <td>0.0</td>\n",
       "    </tr>\n",
       "  </tbody>\n",
       "</table>\n",
       "</div>"
      ],
      "text/plain": [
       "     Order ID     AWB Number  Total weight as per X  Weight Slab as per X  \\\n",
       "0  2001806232  1091117222124                  1.302                   1.5   \n",
       "1  2001806273  1091117222194                  0.615                   0.5   \n",
       "2  2001806408  1091117222931                  2.265                   2.5   \n",
       "3  2001806458  1091117223244                  0.700                   0.5   \n",
       "4  2001807012  1091117229345                  0.240                   0.5   \n",
       "\n",
       "   Total Weight as per Courier Company  \\\n",
       "0                                 1.30   \n",
       "1                                 1.00   \n",
       "2                                 2.50   \n",
       "3                                 1.00   \n",
       "4                                 0.15   \n",
       "\n",
       "   Weight Slab Charged by Courier Company Delivery Zone as per X  \\\n",
       "0                                     1.5                      d   \n",
       "1                                     1.0                      d   \n",
       "2                                     2.5                      d   \n",
       "3                                     1.0                      b   \n",
       "4                                     0.5                      d   \n",
       "\n",
       "  Delivery Zone as per Courier Company  Expected charges as per X  \\\n",
       "0                                    d                      135.0   \n",
       "1                                    d                       45.4   \n",
       "2                                    d                      224.6   \n",
       "3                                    b                       33.0   \n",
       "4                                    d                       45.4   \n",
       "\n",
       "   Charges billed by Courier Company  \\\n",
       "0                              135.0   \n",
       "1                               90.2   \n",
       "2                              224.6   \n",
       "3                               61.3   \n",
       "4                               45.4   \n",
       "\n",
       "   Difference between Expected and billed charges  \n",
       "0                                             0.0  \n",
       "1                                           -44.8  \n",
       "2                                             0.0  \n",
       "3                                           -28.3  \n",
       "4                                             0.0  "
      ]
     },
     "execution_count": 12,
     "metadata": {},
     "output_type": "execute_result"
    }
   ],
   "source": [
    "final_data.to_excel('FinalOutput.xlsx')\n",
    "final_data.head()"
   ]
  },
  {
   "cell_type": "code",
   "execution_count": 13,
   "id": "7b106412",
   "metadata": {},
   "outputs": [
    {
     "data": {
      "text/plain": [
       "Text(0.5, 1.0, 'Charges billed by Courier Company')"
      ]
     },
     "execution_count": 13,
     "metadata": {},
     "output_type": "execute_result"
    },
    {
     "data": {
      "image/png": "[encoded data removed]",
      "text/plain": [
       "<Figure size 1152x288 with 2 Axes>"
      ]
     },
     "metadata": {
      "needs_background": "light"
     },
     "output_type": "display_data"
    }
   ],
   "source": [
    "# sns.jointplot('Expected charges as per X','Charges billed by Courier Company',data=final_data)\n",
    "fig = plt.figure(figsize=(16,4))\n",
    "\n",
    "plt.subplot(1,2,1)\n",
    "final_data['Expected charges as per X'].plot.hist()\n",
    "plt.title('Expected charges as per X')\n",
    "\n",
    "plt.subplot(1,2,2)\n",
    "final_data['Charges billed by Courier Company'].plot.hist()\n",
    "plt.title('Charges billed by Courier Company')"
   ]
  },
  {
   "cell_type": "markdown",
   "id": "dd7d00fe",
   "metadata": {},
   "source": [
    "#### Courier Company is charging more the Expected budget of Company X in most of the Deliveries"
   ]
  },
  {
   "cell_type": "code",
   "execution_count": 14,
   "id": "59debbd7",
   "metadata": {},
   "outputs": [
    {
     "data": {
      "text/plain": [
       "<AxesSubplot:xlabel='Expected charges as per X', ylabel='Charges billed by Courier Company'>"
      ]
     },
     "execution_count": 14,
     "metadata": {},
     "output_type": "execute_result"
    },
    {
     "data": {
      "image/png": "[encoded data removed]",
      "text/plain": [
       "<Figure size 432x288 with 1 Axes>"
      ]
     },
     "metadata": {
      "needs_background": "light"
     },
     "output_type": "display_data"
    }
   ],
   "source": [
    "sns.histplot(data=final_data,x='Expected charges as per X',y='Charges billed by Courier Company')"
   ]
  },
  {
   "cell_type": "code",
   "execution_count": 15,
   "id": "be10b855",
   "metadata": {},
   "outputs": [
    {
     "data": {
      "text/plain": [
       "Text(0.5, 1.0, 'Frequency of Difference between Expected and billed charges')"
      ]
     },
     "execution_count": 15,
     "metadata": {},
     "output_type": "execute_result"
    },
    {
     "data": {
      "image/png": "[encoded data removed]",
      "text/plain": [
       "<Figure size 432x288 with 1 Axes>"
      ]
     },
     "metadata": {
      "needs_background": "light"
     },
     "output_type": "display_data"
    }
   ],
   "source": [
    "final_data['Difference between Expected and billed charges'].plot.hist(bins=50)\n",
    "plt.title('Frequency of Difference between Expected and billed charges')"
   ]
  },
  {
   "cell_type": "code",
   "execution_count": 16,
   "id": "996b3f3b",
   "metadata": {},
   "outputs": [
    {
     "name": "stdout",
     "output_type": "stream",
     "text": [
      "Expected Charges as per Company X : 10575.39999999997\n",
      "Charges billed by Courier Company : 18432.80000000003\n",
      "Extra Charges : -7857.400000000058\n"
     ]
    }
   ],
   "source": [
    "Xpaid = 0\n",
    "for i in final_data['Expected charges as per X']:\n",
    "    Xpaid += i\n",
    "print('Expected Charges as per Company X :',Xpaid)\n",
    "\n",
    "Ccharge = 0\n",
    "for i in final_data['Charges billed by Courier Company']:\n",
    "    Ccharge += i\n",
    "print('Charges billed by Courier Company :',Ccharge)\n",
    "\n",
    "print('Extra Charges :',Xpaid-Ccharge)"
   ]
  },
  {
   "cell_type": "markdown",
   "id": "1060be58",
   "metadata": {},
   "source": [
    "#### Company is having loss of 7857.41$ "
   ]
  },
  {
   "cell_type": "markdown",
   "id": "043eb7fc",
   "metadata": {},
   "source": [
    "##### ==>Expected conclusion in given business problem "
   ]
  },
  {
   "cell_type": "code",
   "execution_count": 17,
   "id": "f8493f08",
   "metadata": {},
   "outputs": [
    {
     "data": {
      "text/html": [
       "<div>\n",
       "<style scoped>\n",
       "    .dataframe tbody tr th:only-of-type {\n",
       "        vertical-align: middle;\n",
       "    }\n",
       "\n",
       "    .dataframe tbody tr th {\n",
       "        vertical-align: top;\n",
       "    }\n",
       "\n",
       "    .dataframe thead th {\n",
       "        text-align: right;\n",
       "    }\n",
       "</style>\n",
       "<table border=\"1\" class=\"dataframe\">\n",
       "  <thead>\n",
       "    <tr style=\"text-align: right;\">\n",
       "      <th></th>\n",
       "      <th>Order ID</th>\n",
       "      <th>AWB Number</th>\n",
       "      <th>Total weight as per X</th>\n",
       "      <th>Weight Slab as per X</th>\n",
       "      <th>Total Weight as per Courier Company</th>\n",
       "      <th>Weight Slab Charged by Courier Company</th>\n",
       "      <th>Delivery Zone as per X</th>\n",
       "      <th>Delivery Zone as per Courier Company</th>\n",
       "      <th>Expected charges as per X</th>\n",
       "      <th>Charges billed by Courier Company</th>\n",
       "      <th>Difference between Expected and billed charges</th>\n",
       "    </tr>\n",
       "  </thead>\n",
       "  <tbody>\n",
       "    <tr>\n",
       "      <th>0</th>\n",
       "      <td>2001806232</td>\n",
       "      <td>1091117222124</td>\n",
       "      <td>1.302</td>\n",
       "      <td>1.5</td>\n",
       "      <td>1.3</td>\n",
       "      <td>1.5</td>\n",
       "      <td>d</td>\n",
       "      <td>d</td>\n",
       "      <td>135.0</td>\n",
       "      <td>135.0</td>\n",
       "      <td>0.0</td>\n",
       "    </tr>\n",
       "  </tbody>\n",
       "</table>\n",
       "</div>"
      ],
      "text/plain": [
       "     Order ID     AWB Number  Total weight as per X  Weight Slab as per X  \\\n",
       "0  2001806232  1091117222124                  1.302                   1.5   \n",
       "\n",
       "   Total Weight as per Courier Company  \\\n",
       "0                                  1.3   \n",
       "\n",
       "   Weight Slab Charged by Courier Company Delivery Zone as per X  \\\n",
       "0                                     1.5                      d   \n",
       "\n",
       "  Delivery Zone as per Courier Company  Expected charges as per X  \\\n",
       "0                                    d                      135.0   \n",
       "\n",
       "   Charges billed by Courier Company  \\\n",
       "0                              135.0   \n",
       "\n",
       "   Difference between Expected and billed charges  \n",
       "0                                             0.0  "
      ]
     },
     "execution_count": 17,
     "metadata": {},
     "output_type": "execute_result"
    }
   ],
   "source": [
    "final_data[final_data['Order ID'] == 2001806232]"
   ]
  },
  {
   "cell_type": "code",
   "execution_count": 18,
   "id": "cd61d505",
   "metadata": {},
   "outputs": [
    {
     "data": {
      "text/html": [
       "<div>\n",
       "<style scoped>\n",
       "    .dataframe tbody tr th:only-of-type {\n",
       "        vertical-align: middle;\n",
       "    }\n",
       "\n",
       "    .dataframe tbody tr th {\n",
       "        vertical-align: top;\n",
       "    }\n",
       "\n",
       "    .dataframe thead th {\n",
       "        text-align: right;\n",
       "    }\n",
       "</style>\n",
       "<table border=\"1\" class=\"dataframe\">\n",
       "  <thead>\n",
       "    <tr style=\"text-align: right;\">\n",
       "      <th></th>\n",
       "      <th>Order ID</th>\n",
       "      <th>AWB Number</th>\n",
       "      <th>Total weight as per X</th>\n",
       "      <th>Weight Slab as per X</th>\n",
       "      <th>Total Weight as per Courier Company</th>\n",
       "      <th>Weight Slab Charged by Courier Company</th>\n",
       "      <th>Delivery Zone as per X</th>\n",
       "      <th>Delivery Zone as per Courier Company</th>\n",
       "      <th>Expected charges as per X</th>\n",
       "      <th>Charges billed by Courier Company</th>\n",
       "      <th>Difference between Expected and billed charges</th>\n",
       "    </tr>\n",
       "  </thead>\n",
       "  <tbody>\n",
       "    <tr>\n",
       "      <th>35</th>\n",
       "      <td>2001806210</td>\n",
       "      <td>1091117221940</td>\n",
       "      <td>0.22</td>\n",
       "      <td>0.5</td>\n",
       "      <td>2.92</td>\n",
       "      <td>2.5</td>\n",
       "      <td>b</td>\n",
       "      <td>b</td>\n",
       "      <td>33.0</td>\n",
       "      <td>174.5</td>\n",
       "      <td>-141.5</td>\n",
       "    </tr>\n",
       "  </tbody>\n",
       "</table>\n",
       "</div>"
      ],
      "text/plain": [
       "      Order ID     AWB Number  Total weight as per X  Weight Slab as per X  \\\n",
       "35  2001806210  1091117221940                   0.22                   0.5   \n",
       "\n",
       "    Total Weight as per Courier Company  \\\n",
       "35                                 2.92   \n",
       "\n",
       "    Weight Slab Charged by Courier Company Delivery Zone as per X  \\\n",
       "35                                     2.5                      b   \n",
       "\n",
       "   Delivery Zone as per Courier Company  Expected charges as per X  \\\n",
       "35                                    b                       33.0   \n",
       "\n",
       "    Charges billed by Courier Company  \\\n",
       "35                              174.5   \n",
       "\n",
       "    Difference between Expected and billed charges  \n",
       "35                                          -141.5  "
      ]
     },
     "execution_count": 18,
     "metadata": {},
     "output_type": "execute_result"
    }
   ],
   "source": [
    "final_data[final_data['Order ID'] == 2001806210]"
   ]
  }
 ],
 "metadata": {
  "kernelspec": {
   "display_name": "Python 3 (ipykernel)",
   "language": "python",
   "name": "python3"
  },
  "language_info": {
   "codemirror_mode": {
    "name": "ipython",
    "version": 3
   },
   "file_extension": ".py",
   "mimetype": "text/x-python",
   "name": "python",
   "nbconvert_exporter": "python",
   "pygments_lexer": "ipython3",
   "version": "3.9.12"
  }
 },
 "nbformat": 4,
 "nbformat_minor": 5
}
